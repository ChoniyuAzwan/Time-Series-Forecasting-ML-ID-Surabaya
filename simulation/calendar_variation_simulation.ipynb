{
 "cells": [
  {
   "cell_type": "markdown",
   "metadata": {},
   "source": [
    "# Time Series Dataset Simulation: Trend, Seasonal, and Calendar Variation Effects"
   ]
  },
  {
   "cell_type": "markdown",
   "metadata": {},
   "source": [
    "## Create components"
   ]
  },
  {
   "cell_type": "markdown",
   "metadata": {},
   "source": [
    "### Import packages"
   ]
  },
  {
   "cell_type": "code",
   "execution_count": 1,
   "metadata": {},
   "outputs": [
    {
     "name": "stderr",
     "output_type": "stream",
     "text": [
      "dummies-1.5.6 provided by Decision Patterns\n",
      "\n"
     ]
    }
   ],
   "source": [
    "library(dummies)"
   ]
  },
  {
   "cell_type": "markdown",
   "metadata": {},
   "source": [
    "### Dummy variable for trend effect"
   ]
  },
  {
   "cell_type": "code",
   "execution_count": 2,
   "metadata": {},
   "outputs": [],
   "source": [
    "dummyT <- c(1:204)"
   ]
  },
  {
   "cell_type": "code",
   "execution_count": 4,
   "metadata": {},
   "outputs": [
    {
     "name": "stdout",
     "output_type": "stream",
     "text": [
      " [1]  1  2  3  4  5  6  7  8  9 10\n"
     ]
    }
   ],
   "source": [
    "print(head(dummyT, 10))"
   ]
  },
  {
   "cell_type": "code",
   "execution_count": 6,
   "metadata": {},
   "outputs": [
    {
     "name": "stdout",
     "output_type": "stream",
     "text": [
      " [1] 195 196 197 198 199 200 201 202 203 204\n"
     ]
    }
   ],
   "source": [
    "print(tail(dummyT, 10))"
   ]
  },
  {
   "cell_type": "markdown",
   "metadata": {},
   "source": [
    "### Dummy variable for seasonal effect (monthly)"
   ]
  },
  {
   "cell_type": "code",
   "execution_count": 9,
   "metadata": {},
   "outputs": [],
   "source": [
    "Month <- data.frame(Month=rep(1:12,17))\n",
    "dummyM <- dummy(Month$Month, sep = \"_\")"
   ]
  },
  {
   "cell_type": "code",
   "execution_count": 10,
   "metadata": {},
   "outputs": [
    {
     "name": "stdout",
     "output_type": "stream",
     "text": [
      "      NA_1 NA_2 NA_3 NA_4 NA_5 NA_6 NA_7 NA_8 NA_9 NA_10 NA_11 NA_12\n",
      " [1,]    1    0    0    0    0    0    0    0    0     0     0     0\n",
      " [2,]    0    1    0    0    0    0    0    0    0     0     0     0\n",
      " [3,]    0    0    1    0    0    0    0    0    0     0     0     0\n",
      " [4,]    0    0    0    1    0    0    0    0    0     0     0     0\n",
      " [5,]    0    0    0    0    1    0    0    0    0     0     0     0\n",
      " [6,]    0    0    0    0    0    1    0    0    0     0     0     0\n",
      " [7,]    0    0    0    0    0    0    1    0    0     0     0     0\n",
      " [8,]    0    0    0    0    0    0    0    1    0     0     0     0\n",
      " [9,]    0    0    0    0    0    0    0    0    1     0     0     0\n",
      "[10,]    0    0    0    0    0    0    0    0    0     1     0     0\n"
     ]
    }
   ],
   "source": [
    "print(head(dummyM,10))"
   ]
  },
  {
   "cell_type": "markdown",
   "metadata": {},
   "source": [
    "### Dummy variable for calendar variation"
   ]
  },
  {
   "cell_type": "code",
   "execution_count": 22,
   "metadata": {},
   "outputs": [],
   "source": [
    "CalVar<-data.frame(CV=c(rep(0,10),\"WB3\",\"W3\",rep(0,10),\"WB1\",\"W1\",rep(0,9),\"WB4\",\"W4\",\n",
    "                    rep(0,10),\"WB3\",\"W3\",rep(0,10),\"WB1\",\"W1\",rep(0,9),\"WB4\",\"W4\",\n",
    "                    rep(0,10),\"WB2\",\"W2\",rep(0,10),\"WB1\",\"W1\",rep(0,9),\"WB3\",\"W3\",\n",
    "                    rep(0,10),\"WB2\",\"W2\",rep(0,9),\"WB4\",\"W4\",rep(0,10),\"WB3\",\"W3\",\n",
    "                    rep(0,10),\"WB2\",\"W2\",rep(0,9),\"WB4\",\"W4\",rep(0,10),\"WB3\",\"W3\",\n",
    "                    rep(0,10),\"WB1\",\"W1\",rep(0,9),\"WB4\",\"W4\",rep(0,6)))\n",
    "dummyCV <- dummy(CalVar$CV, sep = \"_\")[,-1]"
   ]
  },
  {
   "cell_type": "code",
   "execution_count": 23,
   "metadata": {},
   "outputs": [
    {
     "name": "stdout",
     "output_type": "stream",
     "text": [
      "     NA_W1 NA_W2 NA_W3 NA_W4 NA_WB1 NA_WB2 NA_WB3 NA_WB4\n",
      "[1,]     0     0     0     0      0      0      0      0\n",
      "[2,]     0     0     0     0      0      0      0      0\n",
      "[3,]     0     0     0     0      0      0      0      0\n",
      "[4,]     0     0     0     0      0      0      0      0\n",
      "[5,]     0     0     0     0      0      0      0      0\n",
      "[6,]     0     0     0     0      0      0      0      0\n"
     ]
    }
   ],
   "source": [
    "print(head(dummyCV))"
   ]
  },
  {
   "cell_type": "markdown",
   "metadata": {},
   "source": [
    "### Combine dummy variables"
   ]
  },
  {
   "cell_type": "code",
   "execution_count": 24,
   "metadata": {},
   "outputs": [],
   "source": [
    "Dummy <- cbind(dummyT, dummyM, dummyCV)"
   ]
  },
  {
   "cell_type": "markdown",
   "metadata": {},
   "source": [
    "### Trend pattern"
   ]
  },
  {
   "cell_type": "code",
   "execution_count": 50,
   "metadata": {},
   "outputs": [],
   "source": [
    "Ytrend <- as.ts(0.1*dummyT)"
   ]
  },
  {
   "cell_type": "markdown",
   "metadata": {},
   "source": [
    "### Seasonal pattern"
   ]
  },
  {
   "cell_type": "code",
   "execution_count": 26,
   "metadata": {},
   "outputs": [],
   "source": [
    "Yseason <- rep(0,204)\n",
    "for (i in 1:204){\n",
    "Yseason[i] <- 20*dummyM[i,1]+23*dummyM[i,2]+25*dummyM[i,3]+23*dummyM[i,4]+\n",
    "              20*dummyM[i,5]+15*dummyM[i,6]+10*dummyM[i,7]+7*dummyM[i,8]+\n",
    "              5*dummyM[i,9]+7*dummyM[i,10]+10*dummyM[i,11]+15*dummyM[i,12]\n",
    "}"
   ]
  },
  {
   "cell_type": "code",
   "execution_count": 28,
   "metadata": {},
   "outputs": [
    {
     "name": "stderr",
     "output_type": "stream",
     "text": [
      "Warning message:\n",
      "\"package 'repr' was built under R version 3.4.3\""
     ]
    }
   ],
   "source": [
    "library(repr)"
   ]
  },
  {
   "cell_type": "code",
   "execution_count": 40,
   "metadata": {},
   "outputs": [],
   "source": [
    "options(repr.plot.width=6, repr.plot.height=4)"
   ]
  },
  {
   "cell_type": "code",
   "execution_count": 41,
   "metadata": {},
   "outputs": [
    {
     "data": {
      "image/png": "[encoded data removed]",
      "text/plain": [
       "plot without title"
      ]
     },
     "metadata": {},
     "output_type": "display_data"
    }
   ],
   "source": [
    "plot(as.ts(Yseason),xlab=\"year\",axes=F,ylab=\"Yseason\")\n",
    "box()\n",
    "points(Yseason,pch=19,col=\"red2\")\n",
    "axis(side=1,at=seq(1,204,12),labels=c(2001:2017))\n",
    "axis(side=2)"
   ]
  },
  {
   "cell_type": "markdown",
   "metadata": {},
   "source": [
    "### Calendar Variation Effect"
   ]
  },
  {
   "cell_type": "code",
   "execution_count": 34,
   "metadata": {},
   "outputs": [],
   "source": [
    "YCV <- rep(0,204)\n",
    "for (i in 1:204){\n",
    "YCV[i] <- 23*dummyCV[i,1]+37*dummyCV[i,2]+44*dummyCV[i,3]+48*dummyCV[i,4]+\n",
    "          56*dummyCV[i,5]+42*dummyCV[i,6]+34*dummyCV[i,7]+30*dummyCV[i,8]\n",
    "}"
   ]
  },
  {
   "cell_type": "code",
   "execution_count": 42,
   "metadata": {},
   "outputs": [
    {
     "data": {
      "image/png": "[encoded data removed]",
      "text/plain": [
       "plot without title"
      ]
     },
     "metadata": {},
     "output_type": "display_data"
    }
   ],
   "source": [
    "plot(as.ts(YCV),xlab=\"year\",axes=F,ylab=\"YCV\")\n",
    "box()\n",
    "points(YCV,pch=19,col=\"red2\")\n",
    "axis(side=1,at=seq(1,204,12),labels=c(2001:2017))\n",
    "axis(side=2)"
   ]
  },
  {
   "cell_type": "markdown",
   "metadata": {},
   "source": [
    "### Noise with linear pattern (AR(1) model)"
   ]
  },
  {
   "cell_type": "code",
   "execution_count": 38,
   "metadata": {},
   "outputs": [],
   "source": [
    "set.seed(123)\n",
    "NtLinear <- runif(4000,-1,1)\n",
    "NtLinear [1] <-0.0\n",
    "for(i in 2:4000) {\n",
    "  e <- rnorm(1,sd=0.5)\n",
    "  NtLinear[i] <- 0.7*NtLinear[i-1]+e \n",
    "}\n",
    "NtLinear <- NtLinear[3797:4000]\n",
    "NtLinear <- as.ts(NtLinear)"
   ]
  },
  {
   "cell_type": "code",
   "execution_count": 43,
   "metadata": {},
   "outputs": [
    {
     "data": {
      "image/png": "[encoded data removed]",
      "text/plain": [
       "plot without title"
      ]
     },
     "metadata": {},
     "output_type": "display_data"
    }
   ],
   "source": [
    "plot(NtLinear[1:203],NtLinear[2:204],xlab=\"Nt-1\",ylab=\"Nt\",pch=19,col=\"red2\")"
   ]
  },
  {
   "cell_type": "markdown",
   "metadata": {},
   "source": [
    "### Noise with nonlinear pattern (ESTAR(1) model)"
   ]
  },
  {
   "cell_type": "code",
   "execution_count": 44,
   "metadata": {},
   "outputs": [],
   "source": [
    "set.seed(123)\n",
    "NtNonlinear <- runif(4000,-1,1)\n",
    "NtNonlinear[1] <- 0.0\n",
    "for(i in 2:4000){\n",
    "  e<-rnorm(1,sd=0.5)\n",
    "  NtNonlinear[i] <- 6.5*NtNonlinear[i-1]*exp(-0.25*NtNonlinear[i-1]*NtNonlinear[i-1])+e\n",
    "}\n",
    "NtNonlinear <- NtNonlinear[3797:4000]\n",
    "NtNonlinear <- as.ts(NtNonlinear)"
   ]
  },
  {
   "cell_type": "code",
   "execution_count": 46,
   "metadata": {},
   "outputs": [
    {
     "data": {
      "image/png": "[encoded data removed]",
      "text/plain": [
       "plot without title"
      ]
     },
     "metadata": {},
     "output_type": "display_data"
    }
   ],
   "source": [
    "plot(NtNonlinear[1:203],NtNonlinear[2:204],xlab=\"Nt-1\",ylab=\"Nt\",pch=19,col=\"red2\")"
   ]
  },
  {
   "cell_type": "code",
   "execution_count": 52,
   "metadata": {},
   "outputs": [],
   "source": [
    "#SCENARIO_1 (HOMOGEN SEASONAL WITH LINEAR NOISE)\n",
    "Y1 = Ytrend + Yseason + YCV + NtLinear\n",
    "\n",
    "#SCENARIO_2 (HOMOGEN SEASONAL WITH NONLINEAR NOISE)\n",
    "Y2 = Ytrend + Yseason + YCV + NtNonlinear"
   ]
  },
  {
   "cell_type": "code",
   "execution_count": null,
   "metadata": {},
   "outputs": [],
   "source": [
    "#SCENARIO_1 (HOMOGEN SEASONAL WITH LINEAR NOISE)\n",
    "Yt_1=Y.trend+Y.seas.1+Y.CV+Nt_Linear\n",
    "\n",
    "#SCENARIO_2 (HOMOGEN SEASONAL WITH NONLINEAR NOISE)\n",
    "Yt_2=Y.trend+Y.seas.1+Y.CV+Nt_Nonlinear\n",
    "\n",
    "par(mfrow=c(1,2))\n",
    "plot(Yt_1,xlab=\"Year\",axes=F,ylab=\"Yt_1\")\n",
    "  box()\n",
    "  points(Yt_1,pch=19,col=\"red2\")\n",
    "  axis(side=1,at=seq(1,204,12),labels=c(2001:2017))\n",
    "  axis(side=2)\n",
    "\n",
    "plot(Yt_2,xlab=\"Year\",axes=F,ylab=\"Yt_2\")\n",
    "  box()\n",
    "  points(Yt_2,pch=19,col=\"red2\")\n",
    "  axis(side=1,at=seq(1,204,12),labels=c(2001:2017))\n",
    "  axis(side=2)\n",
    "\n",
    "data=cbind(Yt_1,Yt_2,Dummy.T,Dummy.M,Dummy.CV)\n",
    "write.table(data,\"simulation_data.txt\",dec=\",\",sep=\"\\t\",col.names=TRUE)\n",
    "\n"
   ]
  },
  {
   "cell_type": "code",
   "execution_count": 54,
   "metadata": {},
   "outputs": [
    {
     "data": {
      "image/png": "[encoded data removed]",
      "text/plain": [
       "plot without title"
      ]
     },
     "metadata": {},
     "output_type": "display_data"
    }
   ],
   "source": [
    "plot(Y1,xlab=\"Year\",axes=F,ylab=\"Y1\")\n",
    "box()\n",
    "points(Y1,pch=19,col=\"red2\")\n",
    "axis(side=1,at=seq(1,204,12),labels=c(2001:2017))\n",
    "axis(side=2)"
   ]
  },
  {
   "cell_type": "code",
   "execution_count": 55,
   "metadata": {},
   "outputs": [
    {
     "data": {
      "image/png": "[encoded data removed]",
      "text/plain": [
       "plot without title"
      ]
     },
     "metadata": {},
     "output_type": "display_data"
    }
   ],
   "source": [
    "plot(Y2,xlab=\"Year\",axes=F,ylab=\"Y2\")\n",
    "box()\n",
    "points(Y2,pch=19,col=\"red2\")\n",
    "axis(side=1,at=seq(1,204,12),labels=c(2001:2017))\n",
    "axis(side=2)"
   ]
  },
  {
   "cell_type": "code",
   "execution_count": 57,
   "metadata": {},
   "outputs": [],
   "source": [
    "write.csv(Y1, \"data_linear.csv\")"
   ]
  },
  {
   "cell_type": "code",
   "execution_count": 58,
   "metadata": {},
   "outputs": [],
   "source": [
    "write.csv(Y2, \"data_nonlinear.csv\")"
   ]
  }
 ],
 "metadata": {
  "kernelspec": {
   "display_name": "Python 3",
   "language": "python",
   "name": "python3"
  },
  "language_info": {
   "codemirror_mode": {
    "name": "ipython",
    "version": 3
   },
   "file_extension": ".py",
   "mimetype": "text/x-python",
   "name": "python",
   "nbconvert_exporter": "python",
   "pygments_lexer": "ipython3",
   "version": "3.6.0"
  }
 },
 "nbformat": 4,
 "nbformat_minor": 2
}
